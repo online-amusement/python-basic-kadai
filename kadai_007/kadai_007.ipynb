{
  "nbformat": 4,
  "nbformat_minor": 0,
  "metadata": {
    "colab": {
      "provenance": []
    },
    "kernelspec": {
      "name": "python3",
      "display_name": "Python 3"
    },
    "language_info": {
      "name": "python"
    }
  },
  "cells": [
    {
      "cell_type": "code",
      "execution_count": 8,
      "metadata": {
        "colab": {
          "base_uri": "https://localhost:8080/"
        },
        "id": "HNmHktDRMHMG",
        "outputId": "0672293f-0ba0-42e9-ef92-74c7b5a42914"
      },
      "outputs": [
        {
          "output_type": "stream",
          "name": "stdout",
          "text": [
            "月曜日は晴れです\n",
            "火曜日は雨です\n",
            "水曜日は晴れです\n",
            "木曜日は晴れです\n",
            "金曜日は曇りです\n",
            "土曜日は曇りのち雨です\n",
            "日曜日は雷雨です\n"
          ]
        }
      ],
      "source": [
        "array = [\"月曜日は晴れです\", \"火曜日は雨です\", \"水曜日は晴れです\", \"木曜日は晴れです\", \"金曜日は曇りです\", \"土曜日は曇りのち雨です\", \"日曜日は雷雨です\"]\n",
        "for i in array:\n",
        "  print(i)"
      ]
    },
    {
      "cell_type": "code",
      "source": [
        "dictionary = {\"mon\": \"晴れ\", \"tue\": \"雨\", \"wed\": \"晴れ\", \"thu\": \"晴れ\", \"fri\": \"曇り\", \"sat\": \"曇りのち雨\", \"sun\": \"雷雨\"}\n",
        "for key,value in dictionary.items():\n",
        "  print(f\"{key}{value}\")"
      ],
      "metadata": {
        "colab": {
          "base_uri": "https://localhost:8080/"
        },
        "id": "uTFLwf5LM1PA",
        "outputId": "3181e0a6-d9af-4f6b-83b9-5d14e43eef7d"
      },
      "execution_count": 18,
      "outputs": [
        {
          "output_type": "stream",
          "name": "stdout",
          "text": [
            "mon晴れ\n",
            "tue雨\n",
            "wed晴れ\n",
            "thu晴れ\n",
            "fri曇り\n",
            "sat曇りのち雨\n",
            "sun雷雨\n"
          ]
        }
      ]
    },
    {
      "cell_type": "code",
      "source": [],
      "metadata": {
        "id": "xObkIoCYdexq"
      },
      "execution_count": null,
      "outputs": []
    }
  ]
}