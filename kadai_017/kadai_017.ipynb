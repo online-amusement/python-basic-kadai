{
  "nbformat": 4,
  "nbformat_minor": 0,
  "metadata": {
    "colab": {
      "provenance": []
    },
    "kernelspec": {
      "name": "python3",
      "display_name": "Python 3"
    },
    "language_info": {
      "name": "python"
    }
  },
  "cells": [
    {
      "cell_type": "code",
      "execution_count": 5,
      "metadata": {
        "colab": {
          "base_uri": "https://localhost:8080/"
        },
        "id": "HNmHktDRMHMG",
        "outputId": "63dd423f-a78e-4f2b-bb76-6c8236c40566"
      },
      "outputs": [
        {
          "output_type": "stream",
          "name": "stdout",
          "text": [
            "大塚さんは大人です。\n",
            "永田さんは大人ではありません。\n",
            "小室さんは大人です。\n",
            "多田さんは大人です。\n",
            "小塚さんは大人ではありません。\n"
          ]
        }
      ],
      "source": [
        "class Human():\n",
        "\n",
        "  def __init__(self, name, age):\n",
        "    self.name = name\n",
        "    self.age = age\n",
        "\n",
        "  def check_adult(self):\n",
        "    if self.age >= 20:\n",
        "      print(self.name + \"さんは大人です。\")\n",
        "    else:\n",
        "      print(self.name + \"さんは大人ではありません。\")\n",
        "\n",
        "humans = [\n",
        "    Human(\"大塚\", 24),\n",
        "    Human(\"永田\", 18),\n",
        "    Human(\"小室\", 21),\n",
        "    Human(\"多田\", 20),\n",
        "    Human(\"小塚\", 17)\n",
        "]\n",
        "\n",
        "for person in humans:\n",
        "  person.check_adult()\n",
        "\n"
      ]
    },
    {
      "cell_type": "code",
      "source": [],
      "metadata": {
        "id": "uTFLwf5LM1PA"
      },
      "execution_count": null,
      "outputs": []
    },
    {
      "cell_type": "code",
      "source": [],
      "metadata": {
        "id": "xObkIoCYdexq"
      },
      "execution_count": null,
      "outputs": []
    }
  ]
}